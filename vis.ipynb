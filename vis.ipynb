{
 "cells": [
  {
   "cell_type": "code",
   "execution_count": 8,
   "metadata": {
    "scrolled": true
   },
   "outputs": [
    {
     "name": "stdout",
     "output_type": "stream",
     "text": [
      "The autoreload extension is already loaded. To reload it, use:\n",
      "  %reload_ext autoreload\n"
     ]
    },
    {
     "data": {
      "text/plain": [
       "'\\ntree_gw = \"(a:1,(d:2,b:3,c:4),(e:1, f:2))\"\\n\\ntree1 = pt.loads(tree_gw)[0]\\n\\ncn_max = 5\\nnum_site = 8\\nleaf_cns = {}\\ntree1.count_leaves()\\n\\nfor node in tree1.nodes:\\n    leaf_cns[node.name] = np.random.randint(cn_max, size=num_site)\\nprint(leaf_cns)\\n#leaf_cns = {\"a\":[1,2], \"b\":[2,4], \"c\":[3,6], \"d\":[4,8]}\\n#dl.calc_score_recursive(tree1, leaf_cns1, 1, 8)\\n#print(tree1.cn_score)\\ndl.calc_score_recursive_vect(tree1, leaf_cns, 1, cn_max, num_site)\\nprint(tree1.cn_score)\\nprint(\"number of leaf: %d\" % tree1.num_leaves)\\nprint(\"number of sites: %d\" % num_site)\\nprint(\"number of max copies: %d\" % cn_max)\\n\\npd.DataFrame(np.array([[1, 2, 3], [4, 5, 6], [7, 8, 9]]),\\n                   columns=[\\'a\\', \\'b\\', \\'c\\'])\\n\\n#creating data frame\\npd.DataFrame(tree1.cn_score.transpose(), columns = [str(i+1) for i in range(num_site)]).to_csv(\"parsimony.csv\")\\n\\nfname = \"parsimony.csv\"\\n#read data\\ndf = pd.read_csv(fname)\\n\\n\\ndf[\"copy_number\"] = [i for i in range(cn_max + 1)]\\n\\n\\n#pd.melt(df, id_vars = [\"copy_number\"], value_vars = [str(i+1) for i in range(num_site)], var_name = \"num_site\", value_name = \"parsimony_score\")\\n#ps_score.rename(rows = [str(i) for i in range(cn_max)])\\n#pd.melt(df, [str(i+1) for i in range(num_site)], id_values, var_name, value_name )\\n\\nmin_score = df.melt(id_vars = [\"copy_number\"], value_vars = [str(i+1) for i in range(num_site)], \\n        var_name = \"bin_id\", value_name = \"parsimony_score\") .groupby(\"bin_id\") .agg({\"parsimony_score\":\"min\"})\\nmin_score[\\'bin_id\\'] = min_score.index\\n#type(min_score)\\nsns.catplot(x=\"bin_id\", y=\"parsimony_score\", jitter=False, data=min_score)\\nsns.barplot(x=\"bin_id\", y=\"parsimony_score\", data=min_score);\\n\\n'"
      ]
     },
     "execution_count": 8,
     "metadata": {},
     "output_type": "execute_result"
    }
   ],
   "source": [
    "from dollo_tree import TreeNode\n",
    "import _delete as dl\n",
    "import numpy as np\n",
    "import seaborn as sns\n",
    "import parsing_tree_gwick as pt\n",
    "import pandas as pd\n",
    "from inspect import signature\n",
    "\n",
    "%load_ext autoreload\n",
    "\n",
    "%autoreload 2\n",
    "\n",
    "'''\n",
    "tree_gw = \"(a:1,(d:2,b:3,c:4),(e:1, f:2))\"\n",
    "\n",
    "tree1 = pt.loads(tree_gw)[0]\n",
    "\n",
    "cn_max = 5\n",
    "num_site = 8\n",
    "leaf_cns = {}\n",
    "tree1.count_leaves()\n",
    "\n",
    "for node in tree1.nodes:\n",
    "    leaf_cns[node.name] = np.random.randint(cn_max, size=num_site)\n",
    "print(leaf_cns)\n",
    "#leaf_cns = {\"a\":[1,2], \"b\":[2,4], \"c\":[3,6], \"d\":[4,8]}\n",
    "#dl.calc_score_recursive(tree1, leaf_cns1, 1, 8)\n",
    "#print(tree1.cn_score)\n",
    "dl.calc_score_recursive_vect(tree1, leaf_cns, 1, cn_max, num_site)\n",
    "print(tree1.cn_score)\n",
    "print(\"number of leaf: %d\" % tree1.num_leaves)\n",
    "print(\"number of sites: %d\" % num_site)\n",
    "print(\"number of max copies: %d\" % cn_max)\n",
    "\n",
    "pd.DataFrame(np.array([[1, 2, 3], [4, 5, 6], [7, 8, 9]]),\n",
    "                   columns=['a', 'b', 'c'])\n",
    "\n",
    "#creating data frame\n",
    "pd.DataFrame(tree1.cn_score.transpose(), columns = [str(i+1) for i in range(num_site)]).to_csv(\"parsimony.csv\")\n",
    "\n",
    "fname = \"parsimony.csv\"\n",
    "#read data\n",
    "df = pd.read_csv(fname)\n",
    "\n",
    "\n",
    "df[\"copy_number\"] = [i for i in range(cn_max + 1)]\n",
    "\n",
    "\n",
    "#pd.melt(df, id_vars = [\"copy_number\"], value_vars = [str(i+1) for i in range(num_site)], var_name = \"num_site\", value_name = \"parsimony_score\")\n",
    "#ps_score.rename(rows = [str(i) for i in range(cn_max)])\n",
    "#pd.melt(df, [str(i+1) for i in range(num_site)], id_values, var_name, value_name )\n",
    "\n",
    "min_score = df.melt(id_vars = [\"copy_number\"], value_vars = [str(i+1) for i in range(num_site)], \n",
    "        var_name = \"bin_id\", value_name = \"parsimony_score\")\\\n",
    " .groupby(\"bin_id\")\\\n",
    " .agg({\"parsimony_score\":\"min\"})\n",
    "min_score['bin_id'] = min_score.index\n",
    "#type(min_score)\n",
    "sns.catplot(x=\"bin_id\", y=\"parsimony_score\", jitter=False, data=min_score)\n",
    "sns.barplot(x=\"bin_id\", y=\"parsimony_score\", data=min_score);\n",
    "\n",
    "'''\n"
   ]
  },
  {
   "cell_type": "code",
   "execution_count": 4,
   "metadata": {},
   "outputs": [
    {
     "ename": "NameError",
     "evalue": "name 'num_site' is not defined",
     "output_type": "error",
     "traceback": [
      "\u001b[1;31m---------------------------------------------------------------------------\u001b[0m",
      "\u001b[1;31mNameError\u001b[0m                                 Traceback (most recent call last)",
      "\u001b[1;32m<ipython-input-4-5f4bff819e69>\u001b[0m in \u001b[0;36m<module>\u001b[1;34m\u001b[0m\n\u001b[0;32m     23\u001b[0m \u001b[1;33m\u001b[0m\u001b[0m\n\u001b[0;32m     24\u001b[0m \u001b[1;33m\u001b[0m\u001b[0m\n\u001b[1;32m---> 25\u001b[1;33m \u001b[0mplot_parsimony\u001b[0m\u001b[1;33m(\u001b[0m\u001b[1;34m\"parsimony.csv\"\u001b[0m\u001b[1;33m,\u001b[0m \u001b[0mcn_max\u001b[0m\u001b[1;33m,\u001b[0m \u001b[0mnum_site\u001b[0m\u001b[1;33m,\u001b[0m \u001b[1;32mTrue\u001b[0m\u001b[1;33m)\u001b[0m\u001b[1;33m\u001b[0m\u001b[0m\n\u001b[0m\u001b[0;32m     26\u001b[0m \u001b[0mplot_parsimony\u001b[0m\u001b[1;33m(\u001b[0m\u001b[1;34m\"parsimony.csv\"\u001b[0m\u001b[1;33m,\u001b[0m \u001b[0mcn_max\u001b[0m\u001b[1;33m,\u001b[0m \u001b[0mnum_site\u001b[0m\u001b[1;33m)\u001b[0m\u001b[1;33m\u001b[0m\u001b[0m\n\u001b[0;32m     27\u001b[0m \u001b[1;33m\u001b[0m\u001b[0m\n",
      "\u001b[1;31mNameError\u001b[0m: name 'num_site' is not defined"
     ]
    }
   ],
   "source": [
    "def plot_parsimony(fname, cn_max, num_site, min=False):\n",
    "    df = pd.read_csv(fname)\n",
    "    df[\"copy_number\"] = [i for i in range(cn_max + 1)]\n",
    "    df = df.melt(id_vars = [\"copy_number\"], value_vars = [str(i+1) for i in range(num_site)], \n",
    "            var_name = \"site_id\", value_name = \"parsimony_score\")\\\n",
    "\n",
    "     \n",
    "    min_score = df.groupby(\"site_id\")\\\n",
    "                .agg({\"parsimony_score\":\"min\"})\n",
    "    min_score['site'] = min_score.index\n",
    "    #type(min_score)\n",
    "    max_hue = max(df[df.parsimony_score != np.inf].parsimony_score)\n",
    "    #print(df[df.parsimony_score != np.inf])\n",
    "    panel = sns.cubehelix_palette(max_hue, start=2, rot=0, dark=0, light=.95, reverse=True)\n",
    "    print(\"max\",max_hue)\n",
    "    if min:\n",
    "        sns.barplot(x=\"site\", y=\"parsimony_score\", data=min_score);\n",
    "    else:\n",
    "        colors = [\"#FF0B04\", \"#4374B3\"]\n",
    "        sns.set_palette(sns.color_palette(colors))\n",
    "        sns.scatterplot(x=\"bin_id\", y=\"copy_number\", data=df, hue=\"parsimony_score\")\n",
    "   \n",
    "\n",
    "\n",
    "plot_parsimony(\"parsimony.csv\", cn_max, num_site, True)\n",
    "plot_parsimony(\"parsimony.csv\", cn_max, num_site)\n",
    "    "
   ]
  },
  {
   "cell_type": "code",
   "execution_count": 9,
   "metadata": {},
   "outputs": [
    {
     "name": "stdout",
     "output_type": "stream",
     "text": [
      "(tree, fname, cn_max, num_bins, df=None, display=None, bins=None, chromosome=None)\n",
      "---- Reading the tree : 2295_clone_tree.newick----\n",
      "(((E,D), (F,G)),(A,(B,C)))\n",
      "((E,D), (F,G))\n",
      "(E,D)\n",
      "E\n",
      "D\n",
      " (F,G)\n",
      "F\n",
      "G\n",
      "(A,(B,C))\n",
      "A\n",
      "(B,C)\n",
      "B\n",
      "C\n",
      "---- Reading copy number data: 2295_padded_chrom_cn_clones.tsv ----\n",
      "---- Calculating parsimony score: 2295_clone_tree ----\n",
      "---- Visualizing the tree: 2295_clone_tree ----\n"
     ]
    },
    {
     "ename": "ValueError",
     "evalue": "setting an array element with a sequence.",
     "output_type": "error",
     "traceback": [
      "\u001b[1;31m---------------------------------------------------------------------------\u001b[0m",
      "\u001b[1;31mTypeError\u001b[0m                                 Traceback (most recent call last)",
      "\u001b[1;31mTypeError\u001b[0m: only size-1 arrays can be converted to Python scalars",
      "\nThe above exception was the direct cause of the following exception:\n",
      "\u001b[1;31mValueError\u001b[0m                                Traceback (most recent call last)",
      "\u001b[1;32m<ipython-input-9-2f5ce6992c40>\u001b[0m in \u001b[0;36m<module>\u001b[1;34m\u001b[0m\n\u001b[0;32m     53\u001b[0m                      \u001b[0msegment_length\u001b[0m\u001b[1;33m,\u001b[0m\u001b[1;33m\u001b[0m\u001b[0m\n\u001b[0;32m     54\u001b[0m                      \u001b[0mcn_max\u001b[0m\u001b[1;33m,\u001b[0m \u001b[0mbins\u001b[0m\u001b[1;33m,\u001b[0m\u001b[1;33m\u001b[0m\u001b[0m\n\u001b[1;32m---> 55\u001b[1;33m                      display, vis = True)\n\u001b[0m\u001b[0;32m     56\u001b[0m \u001b[1;33m\u001b[0m\u001b[0m\n\u001b[0;32m     57\u001b[0m \u001b[1;33m\u001b[0m\u001b[0m\n",
      "\u001b[1;32m<ipython-input-9-2f5ce6992c40>\u001b[0m in \u001b[0;36msankoff_parimony\u001b[1;34m(tree_fname, cp_fname, segment_length, cn_max, bins, display, vis)\u001b[0m\n\u001b[0;32m     35\u001b[0m         \u001b[0mprint\u001b[0m\u001b[1;33m(\u001b[0m\u001b[1;34m\"---- Visualizing the tree: %s ----\"\u001b[0m \u001b[1;33m%\u001b[0m\u001b[0mtree_fname\u001b[0m\u001b[1;33m)\u001b[0m\u001b[1;33m\u001b[0m\u001b[0m\n\u001b[0;32m     36\u001b[0m         \u001b[1;31m#pt.visualize_tree(tree, tree_fname, cn_max, num_bins, display, bins)\u001b[0m\u001b[1;33m\u001b[0m\u001b[1;33m\u001b[0m\u001b[0m\n\u001b[1;32m---> 37\u001b[1;33m         \u001b[0mpt\u001b[0m\u001b[1;33m.\u001b[0m\u001b[0mvisualize_tree\u001b[0m\u001b[1;33m(\u001b[0m\u001b[0mtree\u001b[0m\u001b[1;33m,\u001b[0m \u001b[0mtree_fname\u001b[0m\u001b[1;33m,\u001b[0m \u001b[0mcn_max\u001b[0m\u001b[1;33m,\u001b[0m \u001b[0mnum_bins\u001b[0m\u001b[1;33m,\u001b[0m \u001b[0mdf_location\u001b[0m \u001b[1;33m,\u001b[0m \u001b[0mdisplay\u001b[0m\u001b[1;33m,\u001b[0m \u001b[0mbins\u001b[0m\u001b[1;33m)\u001b[0m\u001b[1;33m\u001b[0m\u001b[0m\n\u001b[0m\u001b[0;32m     38\u001b[0m \u001b[1;33m\u001b[0m\u001b[0m\n\u001b[0;32m     39\u001b[0m     \u001b[1;31m#save the score of the root in a csv file:\u001b[0m\u001b[1;33m\u001b[0m\u001b[1;33m\u001b[0m\u001b[0m\n",
      "\u001b[1;32mF:\\Carleton\\CBSP\\sankoff\\parsing_tree_gwick.py\u001b[0m in \u001b[0;36mvisualize_tree\u001b[1;34m(tree, fname, cn_max, num_bins, df, display, bins, chromosome)\u001b[0m\n\u001b[0;32m    152\u001b[0m                 \u001b[0mchild_display\u001b[0m \u001b[1;33m=\u001b[0m \u001b[0mnode_vis_table\u001b[0m\u001b[1;33m(\u001b[0m\u001b[0mchild\u001b[0m\u001b[1;33m,\u001b[0m \u001b[0mnum_bins\u001b[0m\u001b[1;33m,\u001b[0m \u001b[0mbins\u001b[0m\u001b[1;33m,\u001b[0m \u001b[0mcn_max\u001b[0m\u001b[1;33m)\u001b[0m\u001b[1;33m\u001b[0m\u001b[0m\n\u001b[0;32m    153\u001b[0m             \u001b[1;32melif\u001b[0m \u001b[0mdisplay\u001b[0m \u001b[1;33m==\u001b[0m \u001b[1;34m\"graph\"\u001b[0m\u001b[1;33m:\u001b[0m\u001b[1;33m\u001b[0m\u001b[0m\n\u001b[1;32m--> 154\u001b[1;33m                 \u001b[0mnode_display\u001b[0m \u001b[1;33m=\u001b[0m \u001b[0mnode_vis_graph\u001b[0m\u001b[1;33m(\u001b[0m\u001b[0mdf\u001b[0m\u001b[1;33m,\u001b[0m \u001b[0mnode\u001b[0m\u001b[1;33m,\u001b[0m \u001b[0mnum_bins\u001b[0m\u001b[1;33m,\u001b[0m \u001b[0mbins\u001b[0m\u001b[1;33m,\u001b[0m \u001b[0mcn_max\u001b[0m\u001b[1;33m,\u001b[0m \u001b[0mchromosome\u001b[0m\u001b[1;33m,\u001b[0m \u001b[0mfname\u001b[0m\u001b[1;33m,\u001b[0m \u001b[0ms\u001b[0m \u001b[1;33m=\u001b[0m \u001b[1;36m5\u001b[0m\u001b[1;33m)\u001b[0m\u001b[1;33m\u001b[0m\u001b[0m\n\u001b[0m\u001b[0;32m    155\u001b[0m                 \u001b[0mchild_display\u001b[0m \u001b[1;33m=\u001b[0m \u001b[0mnode_vis_graph\u001b[0m\u001b[1;33m(\u001b[0m\u001b[0mdf\u001b[0m\u001b[1;33m,\u001b[0m \u001b[0mchild\u001b[0m\u001b[1;33m,\u001b[0m \u001b[0mnum_bins\u001b[0m\u001b[1;33m,\u001b[0m \u001b[0mbins\u001b[0m\u001b[1;33m,\u001b[0m \u001b[0mcn_max\u001b[0m\u001b[1;33m,\u001b[0m \u001b[0mchromosome\u001b[0m\u001b[1;33m,\u001b[0m \u001b[0mfname\u001b[0m\u001b[1;33m,\u001b[0m \u001b[0ms\u001b[0m \u001b[1;33m=\u001b[0m \u001b[1;36m5\u001b[0m\u001b[1;33m)\u001b[0m\u001b[1;33m\u001b[0m\u001b[0m\n\u001b[0;32m    156\u001b[0m             \u001b[0mdot\u001b[0m\u001b[1;33m.\u001b[0m\u001b[0mnode\u001b[0m\u001b[1;33m(\u001b[0m\u001b[0mnode\u001b[0m\u001b[1;33m.\u001b[0m\u001b[0mname\u001b[0m\u001b[1;33m,\u001b[0m \u001b[0mnode_display\u001b[0m\u001b[1;33m)\u001b[0m\u001b[1;33m\u001b[0m\u001b[0m\n",
      "\u001b[1;32mF:\\Carleton\\CBSP\\sankoff\\parsing_tree_gwick.py\u001b[0m in \u001b[0;36mnode_vis_graph\u001b[1;34m(df, node, num_bins, bins, cn_max, chromosome, name_tree, s)\u001b[0m\n\u001b[0;32m    223\u001b[0m     \u001b[0mfig\u001b[0m \u001b[1;33m=\u001b[0m \u001b[0mplt\u001b[0m\u001b[1;33m.\u001b[0m\u001b[0mfigure\u001b[0m\u001b[1;33m(\u001b[0m\u001b[0mfigsize\u001b[0m\u001b[1;33m=\u001b[0m\u001b[1;33m(\u001b[0m\u001b[1;36m16\u001b[0m\u001b[1;33m,\u001b[0m \u001b[1;36m4\u001b[0m\u001b[1;33m)\u001b[0m\u001b[1;33m)\u001b[0m\u001b[1;33m\u001b[0m\u001b[0m\n\u001b[0;32m    224\u001b[0m     \u001b[0max\u001b[0m \u001b[1;33m=\u001b[0m \u001b[0mplt\u001b[0m\u001b[1;33m.\u001b[0m\u001b[0mgca\u001b[0m\u001b[1;33m(\u001b[0m\u001b[1;33m)\u001b[0m\u001b[1;33m\u001b[0m\u001b[0m\n\u001b[1;32m--> 225\u001b[1;33m     \u001b[0mplt\u001b[0m\u001b[1;33m.\u001b[0m\u001b[0mtitle\u001b[0m\u001b[1;33m(\u001b[0m\u001b[0mnode\u001b[0m\u001b[1;33m.\u001b[0m\u001b[0mname\u001b[0m\u001b[1;33m)\u001b[0m\u001b[1;33m\u001b[0m\u001b[0m\n\u001b[0m\u001b[0;32m    226\u001b[0m     \u001b[0mplot_cell_cn_profile\u001b[0m\u001b[1;33m(\u001b[0m\u001b[0max\u001b[0m\u001b[1;33m,\u001b[0m \u001b[0mdf\u001b[0m\u001b[1;33m,\u001b[0m \u001b[1;34m\"parsimony_score\"\u001b[0m\u001b[1;33m,\u001b[0m \u001b[1;34m\"copy_number\"\u001b[0m\u001b[1;33m,\u001b[0m \u001b[0mcn_max\u001b[0m\u001b[1;33m,\u001b[0m \u001b[0mchromosome\u001b[0m\u001b[1;33m,\u001b[0m \u001b[0ms\u001b[0m\u001b[1;33m)\u001b[0m\u001b[1;33m\u001b[0m\u001b[0m\n\u001b[0;32m    227\u001b[0m     \u001b[0mdir\u001b[0m \u001b[1;33m=\u001b[0m \u001b[0mfile_dir\u001b[0m\u001b[1;33m(\u001b[0m\u001b[0mnode\u001b[0m\u001b[1;33m.\u001b[0m\u001b[0mname\u001b[0m\u001b[1;33m,\u001b[0m \u001b[0mname_tree\u001b[0m\u001b[1;33m)\u001b[0m\u001b[1;33m\u001b[0m\u001b[0m\n",
      "\u001b[1;32mF:\\Carleton\\CBSP\\sankoff\\visualize_score.py\u001b[0m in \u001b[0;36mplot_cell_cn_profile\u001b[1;34m(ax, cn_data, value_field_name, cn_field_name, max_cn, chromosome, s)\u001b[0m\n\u001b[0;32m     52\u001b[0m             \u001b[0mplot_data\u001b[0m\u001b[1;33m[\u001b[0m\u001b[1;34m'start'\u001b[0m\u001b[1;33m]\u001b[0m\u001b[1;33m,\u001b[0m \u001b[0mplot_data\u001b[0m\u001b[1;33m[\u001b[0m\u001b[0mvalue_field_name\u001b[0m\u001b[1;33m]\u001b[0m\u001b[1;33m,\u001b[0m\u001b[1;33m\u001b[0m\u001b[0m\n\u001b[0;32m     53\u001b[0m             \u001b[0mc\u001b[0m\u001b[1;33m=\u001b[0m\u001b[0mplot_data\u001b[0m\u001b[1;33m[\u001b[0m\u001b[0mcn_field_name\u001b[0m\u001b[1;33m]\u001b[0m\u001b[1;33m,\u001b[0m \u001b[0ms\u001b[0m\u001b[1;33m=\u001b[0m\u001b[0ms\u001b[0m\u001b[1;33m,\u001b[0m\u001b[1;33m\u001b[0m\u001b[0m\n\u001b[1;32m---> 54\u001b[1;33m             \u001b[0mcmap\u001b[0m\u001b[1;33m=\u001b[0m\u001b[0mget_cn_cmap\u001b[0m\u001b[1;33m(\u001b[0m\u001b[0mplot_data\u001b[0m\u001b[1;33m[\u001b[0m\u001b[0mcn_field_name\u001b[0m\u001b[1;33m]\u001b[0m\u001b[1;33m.\u001b[0m\u001b[0mastype\u001b[0m\u001b[1;33m(\u001b[0m\u001b[0mint\u001b[0m\u001b[1;33m)\u001b[0m\u001b[1;33m.\u001b[0m\u001b[0mvalues\u001b[0m\u001b[1;33m)\u001b[0m\u001b[1;33m,\u001b[0m\u001b[1;33m\u001b[0m\u001b[0m\n\u001b[0m\u001b[0;32m     55\u001b[0m         )\n\u001b[0;32m     56\u001b[0m     \u001b[1;32melse\u001b[0m\u001b[1;33m:\u001b[0m\u001b[1;33m\u001b[0m\u001b[0m\n",
      "\u001b[1;32mf:\\carleton\\cbsp\\env\\lib\\site-packages\\pandas\\core\\generic.py\u001b[0m in \u001b[0;36mastype\u001b[1;34m(self, dtype, copy, errors)\u001b[0m\n\u001b[0;32m   5696\u001b[0m         \u001b[1;32melse\u001b[0m\u001b[1;33m:\u001b[0m\u001b[1;33m\u001b[0m\u001b[0m\n\u001b[0;32m   5697\u001b[0m             \u001b[1;31m# else, only a single dtype is given\u001b[0m\u001b[1;33m\u001b[0m\u001b[1;33m\u001b[0m\u001b[0m\n\u001b[1;32m-> 5698\u001b[1;33m             \u001b[0mnew_data\u001b[0m \u001b[1;33m=\u001b[0m \u001b[0mself\u001b[0m\u001b[1;33m.\u001b[0m\u001b[0m_data\u001b[0m\u001b[1;33m.\u001b[0m\u001b[0mastype\u001b[0m\u001b[1;33m(\u001b[0m\u001b[0mdtype\u001b[0m\u001b[1;33m=\u001b[0m\u001b[0mdtype\u001b[0m\u001b[1;33m,\u001b[0m \u001b[0mcopy\u001b[0m\u001b[1;33m=\u001b[0m\u001b[0mcopy\u001b[0m\u001b[1;33m,\u001b[0m \u001b[0merrors\u001b[0m\u001b[1;33m=\u001b[0m\u001b[0merrors\u001b[0m\u001b[1;33m)\u001b[0m\u001b[1;33m\u001b[0m\u001b[0m\n\u001b[0m\u001b[0;32m   5699\u001b[0m             \u001b[1;32mreturn\u001b[0m \u001b[0mself\u001b[0m\u001b[1;33m.\u001b[0m\u001b[0m_constructor\u001b[0m\u001b[1;33m(\u001b[0m\u001b[0mnew_data\u001b[0m\u001b[1;33m)\u001b[0m\u001b[1;33m.\u001b[0m\u001b[0m__finalize__\u001b[0m\u001b[1;33m(\u001b[0m\u001b[0mself\u001b[0m\u001b[1;33m)\u001b[0m\u001b[1;33m\u001b[0m\u001b[0m\n\u001b[0;32m   5700\u001b[0m \u001b[1;33m\u001b[0m\u001b[0m\n",
      "\u001b[1;32mf:\\carleton\\cbsp\\env\\lib\\site-packages\\pandas\\core\\internals\\managers.py\u001b[0m in \u001b[0;36mastype\u001b[1;34m(self, dtype, copy, errors)\u001b[0m\n\u001b[0;32m    580\u001b[0m \u001b[1;33m\u001b[0m\u001b[0m\n\u001b[0;32m    581\u001b[0m     \u001b[1;32mdef\u001b[0m \u001b[0mastype\u001b[0m\u001b[1;33m(\u001b[0m\u001b[0mself\u001b[0m\u001b[1;33m,\u001b[0m \u001b[0mdtype\u001b[0m\u001b[1;33m,\u001b[0m \u001b[0mcopy\u001b[0m\u001b[1;33m:\u001b[0m \u001b[0mbool\u001b[0m \u001b[1;33m=\u001b[0m \u001b[1;32mFalse\u001b[0m\u001b[1;33m,\u001b[0m \u001b[0merrors\u001b[0m\u001b[1;33m:\u001b[0m \u001b[0mstr\u001b[0m \u001b[1;33m=\u001b[0m \u001b[1;34m\"raise\"\u001b[0m\u001b[1;33m)\u001b[0m\u001b[1;33m:\u001b[0m\u001b[1;33m\u001b[0m\u001b[0m\n\u001b[1;32m--> 582\u001b[1;33m         \u001b[1;32mreturn\u001b[0m \u001b[0mself\u001b[0m\u001b[1;33m.\u001b[0m\u001b[0mapply\u001b[0m\u001b[1;33m(\u001b[0m\u001b[1;34m\"astype\"\u001b[0m\u001b[1;33m,\u001b[0m \u001b[0mdtype\u001b[0m\u001b[1;33m=\u001b[0m\u001b[0mdtype\u001b[0m\u001b[1;33m,\u001b[0m \u001b[0mcopy\u001b[0m\u001b[1;33m=\u001b[0m\u001b[0mcopy\u001b[0m\u001b[1;33m,\u001b[0m \u001b[0merrors\u001b[0m\u001b[1;33m=\u001b[0m\u001b[0merrors\u001b[0m\u001b[1;33m)\u001b[0m\u001b[1;33m\u001b[0m\u001b[0m\n\u001b[0m\u001b[0;32m    583\u001b[0m \u001b[1;33m\u001b[0m\u001b[0m\n\u001b[0;32m    584\u001b[0m     \u001b[1;32mdef\u001b[0m \u001b[0mconvert\u001b[0m\u001b[1;33m(\u001b[0m\u001b[0mself\u001b[0m\u001b[1;33m,\u001b[0m \u001b[1;33m**\u001b[0m\u001b[0mkwargs\u001b[0m\u001b[1;33m)\u001b[0m\u001b[1;33m:\u001b[0m\u001b[1;33m\u001b[0m\u001b[0m\n",
      "\u001b[1;32mf:\\carleton\\cbsp\\env\\lib\\site-packages\\pandas\\core\\internals\\managers.py\u001b[0m in \u001b[0;36mapply\u001b[1;34m(self, f, filter, **kwargs)\u001b[0m\n\u001b[0;32m    440\u001b[0m                 \u001b[0mapplied\u001b[0m \u001b[1;33m=\u001b[0m \u001b[0mb\u001b[0m\u001b[1;33m.\u001b[0m\u001b[0mapply\u001b[0m\u001b[1;33m(\u001b[0m\u001b[0mf\u001b[0m\u001b[1;33m,\u001b[0m \u001b[1;33m**\u001b[0m\u001b[0mkwargs\u001b[0m\u001b[1;33m)\u001b[0m\u001b[1;33m\u001b[0m\u001b[0m\n\u001b[0;32m    441\u001b[0m             \u001b[1;32melse\u001b[0m\u001b[1;33m:\u001b[0m\u001b[1;33m\u001b[0m\u001b[0m\n\u001b[1;32m--> 442\u001b[1;33m                 \u001b[0mapplied\u001b[0m \u001b[1;33m=\u001b[0m \u001b[0mgetattr\u001b[0m\u001b[1;33m(\u001b[0m\u001b[0mb\u001b[0m\u001b[1;33m,\u001b[0m \u001b[0mf\u001b[0m\u001b[1;33m)\u001b[0m\u001b[1;33m(\u001b[0m\u001b[1;33m**\u001b[0m\u001b[0mkwargs\u001b[0m\u001b[1;33m)\u001b[0m\u001b[1;33m\u001b[0m\u001b[0m\n\u001b[0m\u001b[0;32m    443\u001b[0m             \u001b[0mresult_blocks\u001b[0m \u001b[1;33m=\u001b[0m \u001b[0m_extend_blocks\u001b[0m\u001b[1;33m(\u001b[0m\u001b[0mapplied\u001b[0m\u001b[1;33m,\u001b[0m \u001b[0mresult_blocks\u001b[0m\u001b[1;33m)\u001b[0m\u001b[1;33m\u001b[0m\u001b[0m\n\u001b[0;32m    444\u001b[0m \u001b[1;33m\u001b[0m\u001b[0m\n",
      "\u001b[1;32mf:\\carleton\\cbsp\\env\\lib\\site-packages\\pandas\\core\\internals\\blocks.py\u001b[0m in \u001b[0;36mastype\u001b[1;34m(self, dtype, copy, errors)\u001b[0m\n\u001b[0;32m    623\u001b[0m             \u001b[0mvals1d\u001b[0m \u001b[1;33m=\u001b[0m \u001b[0mvalues\u001b[0m\u001b[1;33m.\u001b[0m\u001b[0mravel\u001b[0m\u001b[1;33m(\u001b[0m\u001b[1;33m)\u001b[0m\u001b[1;33m\u001b[0m\u001b[0m\n\u001b[0;32m    624\u001b[0m             \u001b[1;32mtry\u001b[0m\u001b[1;33m:\u001b[0m\u001b[1;33m\u001b[0m\u001b[0m\n\u001b[1;32m--> 625\u001b[1;33m                 \u001b[0mvalues\u001b[0m \u001b[1;33m=\u001b[0m \u001b[0mastype_nansafe\u001b[0m\u001b[1;33m(\u001b[0m\u001b[0mvals1d\u001b[0m\u001b[1;33m,\u001b[0m \u001b[0mdtype\u001b[0m\u001b[1;33m,\u001b[0m \u001b[0mcopy\u001b[0m\u001b[1;33m=\u001b[0m\u001b[1;32mTrue\u001b[0m\u001b[1;33m)\u001b[0m\u001b[1;33m\u001b[0m\u001b[0m\n\u001b[0m\u001b[0;32m    626\u001b[0m             \u001b[1;32mexcept\u001b[0m \u001b[1;33m(\u001b[0m\u001b[0mValueError\u001b[0m\u001b[1;33m,\u001b[0m \u001b[0mTypeError\u001b[0m\u001b[1;33m)\u001b[0m\u001b[1;33m:\u001b[0m\u001b[1;33m\u001b[0m\u001b[0m\n\u001b[0;32m    627\u001b[0m                 \u001b[1;31m# e.g. astype_nansafe can fail on object-dtype of strings\u001b[0m\u001b[1;33m\u001b[0m\u001b[1;33m\u001b[0m\u001b[0m\n",
      "\u001b[1;32mf:\\carleton\\cbsp\\env\\lib\\site-packages\\pandas\\core\\dtypes\\cast.py\u001b[0m in \u001b[0;36mastype_nansafe\u001b[1;34m(arr, dtype, copy, skipna)\u001b[0m\n\u001b[0;32m    872\u001b[0m         \u001b[1;31m# work around NumPy brokenness, #1987\u001b[0m\u001b[1;33m\u001b[0m\u001b[1;33m\u001b[0m\u001b[0m\n\u001b[0;32m    873\u001b[0m         \u001b[1;32mif\u001b[0m \u001b[0mnp\u001b[0m\u001b[1;33m.\u001b[0m\u001b[0missubdtype\u001b[0m\u001b[1;33m(\u001b[0m\u001b[0mdtype\u001b[0m\u001b[1;33m.\u001b[0m\u001b[0mtype\u001b[0m\u001b[1;33m,\u001b[0m \u001b[0mnp\u001b[0m\u001b[1;33m.\u001b[0m\u001b[0minteger\u001b[0m\u001b[1;33m)\u001b[0m\u001b[1;33m:\u001b[0m\u001b[1;33m\u001b[0m\u001b[0m\n\u001b[1;32m--> 874\u001b[1;33m             \u001b[1;32mreturn\u001b[0m \u001b[0mlib\u001b[0m\u001b[1;33m.\u001b[0m\u001b[0mastype_intsafe\u001b[0m\u001b[1;33m(\u001b[0m\u001b[0marr\u001b[0m\u001b[1;33m.\u001b[0m\u001b[0mravel\u001b[0m\u001b[1;33m(\u001b[0m\u001b[1;33m)\u001b[0m\u001b[1;33m,\u001b[0m \u001b[0mdtype\u001b[0m\u001b[1;33m)\u001b[0m\u001b[1;33m.\u001b[0m\u001b[0mreshape\u001b[0m\u001b[1;33m(\u001b[0m\u001b[0marr\u001b[0m\u001b[1;33m.\u001b[0m\u001b[0mshape\u001b[0m\u001b[1;33m)\u001b[0m\u001b[1;33m\u001b[0m\u001b[0m\n\u001b[0m\u001b[0;32m    875\u001b[0m \u001b[1;33m\u001b[0m\u001b[0m\n\u001b[0;32m    876\u001b[0m         \u001b[1;31m# if we have a datetime/timedelta array of objects\u001b[0m\u001b[1;33m\u001b[0m\u001b[1;33m\u001b[0m\u001b[0m\n",
      "\u001b[1;32mpandas\\_libs\\lib.pyx\u001b[0m in \u001b[0;36mpandas._libs.lib.astype_intsafe\u001b[1;34m()\u001b[0m\n",
      "\u001b[1;31mValueError\u001b[0m: setting an array element with a sequence."
     ]
    },
    {
     "data": {
      "image/png": "[encoded data removed]",
      "text/plain": [
       "<Figure size 1152x288 with 1 Axes>"
      ]
     },
     "metadata": {
      "needs_background": "light"
     },
     "output_type": "display_data"
    }
   ],
   "source": [
    "def read_csv(filename, nodes):\n",
    "    df = pd.read_csv(filename, sep='\\t', header=0)\n",
    "    #data cleaning\n",
    "    df = df.loc[df[\"start\"] > 5000]\n",
    "    leaf_cns = {}\n",
    "    for node in nodes:\n",
    "        leaf_cns[node] = df[node]\n",
    "    num_bins = len(df.index)\n",
    "    #returning the location data only\n",
    "    df_location = df.drop(columns = nodes).copy()\n",
    "    return df_location, leaf_cns, num_bins\n",
    "\n",
    "\n",
    "def sankoff_parimony(tree_fname, cp_fname, \n",
    "                     segment_length, \n",
    "                     cn_max, bins,display = None,vis = False):\n",
    "    #read the tree from newick format\n",
    "    print(\"---- Reading the tree : %s.newick----\" %tree_fname)\n",
    "    tree = pt.read(tree_fname + \".newick\")[0]\n",
    "    nodes = [node.name for node in tree.leaves]\n",
    "    \n",
    "    #read the copy number data in specified file\n",
    "    print(\"---- Reading copy number data: %s ----\" %cp_fname)\n",
    "    df_location, leaf_cns, num_bins = read_csv(cp_fname, nodes)\n",
    "    \n",
    "    #calculate the parsimony score\n",
    "    print(\"---- Calculating parsimony score: %s ----\" %tree_fname)\n",
    "    dl.calc_score_recursive_vect(tree, leaf_cns, \n",
    "                                 segment_length, \n",
    "                                 cn_max, num_bins)\n",
    "    tree.cn_backtrack = tree.children[0].cn_backtrack\n",
    "    \n",
    "    if vis:\n",
    "        #visualize the tree\n",
    "        print(\"---- Visualizing the tree: %s ----\" %tree_fname)\n",
    "        #pt.visualize_tree(tree, tree_fname, cn_max, num_bins, display, bins)\n",
    "        pt.visualize_tree(tree, tree_fname, cn_max, num_bins, df_location , display, bins)\n",
    "    \n",
    "    #save the score of the root in a csv file:\n",
    "    print(\"---- Saving the score: %s ----\" %tree_fname)\n",
    "    pd.DataFrame(tree.cn_score.transpose(), columns = [str(i+1) for i in range(num_bins)]).to_csv(tree_fname+ \".csv\")\n",
    "    \n",
    "    \n",
    "cp_fname = \"2295_padded_chrom_cn_clones.tsv\"\n",
    "tree_name = \"2295_clone_tree\"\n",
    "segment_length = 1\n",
    "cn_max = 12\n",
    "bins = [0,500,600,700,800]\n",
    "display = \"graph\"\n",
    "\n",
    "print(signature(pt.visualize_tree))\n",
    "sankoff_parimony(tree_name, cp_fname, \n",
    "                     segment_length, \n",
    "                     cn_max, bins, \n",
    "                     display, vis = True)\n",
    "    \n",
    "        \n",
    "    \n",
    "    \n",
    "        "
   ]
  },
  {
   "cell_type": "code",
   "execution_count": null,
   "metadata": {},
   "outputs": [],
   "source": []
  }
 ],
 "metadata": {
  "kernelspec": {
   "display_name": "Python 3",
   "language": "python",
   "name": "python3"
  },
  "language_info": {
   "codemirror_mode": {
    "name": "ipython",
    "version": 3
   },
   "file_extension": ".py",
   "mimetype": "text/x-python",
   "name": "python",
   "nbconvert_exporter": "python",
   "pygments_lexer": "ipython3",
   "version": "3.7.0"
  }
 },
 "nbformat": 4,
 "nbformat_minor": 4
}
